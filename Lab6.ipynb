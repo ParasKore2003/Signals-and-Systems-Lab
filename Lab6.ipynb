{
 "cells": [
  {
   "cell_type": "code",
   "execution_count": 1,
   "id": "02f5a039",
   "metadata": {},
   "outputs": [],
   "source": [
    "#Experiment 6\n",
    "\n",
    "# Consider a periodic signal x(t) with period T as described below:\n",
    "#      x(n) = 1   ,  0<=n<=N1-1\n",
    "#           = 0   ,  N1-1< n <= N-1\n",
    "\n",
    "#1. Choose a specific values of N1 and N and compute the fourier series coefficients and plot them.\n",
    "#2. Also compute and plot the approximation signal x_M(n) by computing M term approximation using fourier series.\n",
    "#3. Compute the percentage of error in energy signal e_M(n) = x(n) - x_M(n)in one period for differnet values of M."
   ]
  },
  {
   "cell_type": "code",
   "execution_count": 2,
   "id": "03929060",
   "metadata": {},
   "outputs": [
    {
     "name": "stdout",
     "output_type": "stream",
     "text": [
      "3.38609167484689e-14\n"
     ]
    }
   ],
   "source": [
    "import numpy as np\n",
    "import matplotlib.pyplot as plt\n",
    "import math\n",
    "N1=20\n",
    "N=2*N1\n",
    "W=(2*np.pi)/N\n",
    "x=[]\n",
    "for k in range(0,N,1):\n",
    "    if (0<=k<=N1-1):\n",
    "        x.append(1)\n",
    "    else:\n",
    "        x.append(0)\n",
    "#plt.stem(x)\n",
    "#ck\n",
    "ck=[]\n",
    "for k in range(0,N,1):\n",
    "    a=0\n",
    "    for n in range(0,N,1):\n",
    "        a=a+(x[n]*np.exp(complex(0,-W*k*n)))\n",
    "    ck.append(a/N)\n",
    "#plt.stem(np.abs(ck))\n",
    "#X_M\n",
    "X_M=[]\n",
    "for k in range(0,N,1):\n",
    "    b=0\n",
    "    for n in range(0,N,1):\n",
    "        b=b+(ck[n]*np.exp(complex(0,W*k*n)))\n",
    "    X_M.append(b)\n",
    "#plt.stem(np.abs(X_M))       \n",
    "E=[]\n",
    "for k in range(0,N,1):\n",
    "    E.append(x[k]-X_M[k])\n",
    "\n",
    "error=0\n",
    "for k in range(0,40,1):\n",
    "    error+=E[k]\n",
    "print(np.abs(error))"
   ]
  }
 ],
 "metadata": {
  "kernelspec": {
   "display_name": "Python 3.10.8 64-bit (microsoft store)",
   "language": "python",
   "name": "python3"
  },
  "language_info": {
   "codemirror_mode": {
    "name": "ipython",
    "version": 3
   },
   "file_extension": ".py",
   "mimetype": "text/x-python",
   "name": "python",
   "nbconvert_exporter": "python",
   "pygments_lexer": "ipython3",
   "version": "3.10.8"
  },
  "vscode": {
   "interpreter": {
    "hash": "ac4074522a6a3cad5efd44e6564a2ece94cfd83364ccd1a813949ea39add02b0"
   }
  }
 },
 "nbformat": 4,
 "nbformat_minor": 5
}
